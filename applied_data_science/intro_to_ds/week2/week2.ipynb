{
 "cells": [
  {
   "cell_type": "code",
   "execution_count": 1,
   "metadata": {
    "collapsed": true,
    "pycharm": {
     "name": "#%%\n"
    }
   },
   "outputs": [],
   "source": [
    "\n",
    "\n",
    "\"\"\"\n",
    "Assignment 2\n",
    "For this assignment you'll be looking at 2017 data on immunizations from the CDC. Your datafile for this assignment is in assets/NISPUF17.csv. A data users guide for this, which you'll need to map the variables in the data to the questions being asked, is available at assets/NIS-PUF17-DUG.pdf. Note: you may have to go to your Jupyter tree (click on the Coursera image) and navigate to the assignment 2 assets folder to see this PDF file).\n",
    "\"\"\"\n"
   ]
  },
  {
   "cell_type": "code",
   "execution_count": null,
   "outputs": [],
   "source": [
    "\"\"\"\n",
    "Question 1\n",
    "Write a function called proportion_of_education which returns the proportion of children in the dataset who had a mother with the education levels equal to less than high school (<12), high school (12), more than high school but not a college graduate (>12) and college degree.\n",
    "\n",
    "This function should return a dictionary in the form of (use the correct numbers, do not round numbers):\n",
    "\n",
    "    {\"less than high school\":0.2,\n",
    "    \"high school\":0.4,\n",
    "    \"more than high school but not college\":0.2,\n",
    "    \"college\":0.2}\n",
    "\"\"\"\n"
   ],
   "metadata": {
    "collapsed": false,
    "pycharm": {
     "name": "#%%\n"
    }
   }
  },
  {
   "cell_type": "code",
   "execution_count": 1,
   "outputs": [],
   "source": [
    "import pandas as pd\n",
    "import numpy as np"
   ],
   "metadata": {
    "collapsed": false,
    "pycharm": {
     "name": "#%%\n"
    }
   }
  },
  {
   "cell_type": "code",
   "execution_count": 57,
   "outputs": [
    {
     "data": {
      "text/plain": "{'less than high school': 0.10202002459160373,\n 'high school': 0.172352011241876,\n 'more than high school but not college': 0.24588090637625154,\n 'college': 0.47974705779026877}"
     },
     "execution_count": 57,
     "metadata": {},
     "output_type": "execute_result"
    }
   ],
   "source": [
    "def proportion_of_education():\n",
    "    df = pd.read_csv(\"assets/NISPUF17.csv\", index_col = 0)\n",
    "    # your code goes here\n",
    "    # YOUR CODE HERE\n",
    "    #print(df['EDUC1'].head())\n",
    "    #print(df[df['EDUC1'] == 1])\n",
    "    n = len(df)\n",
    "    lths = len(df[df['EDUC1'] == 1]) / n\n",
    "    hs = len(df[df['EDUC1'] == 2]) / n\n",
    "    mths = len(df[df['EDUC1'] == 3]) / n\n",
    "    c = len(df[df['EDUC1'] == 4]) / n\n",
    "\n",
    "    d = {\n",
    "        \"less than high school\": lths,\n",
    "        \"high school\": hs,\n",
    "        \"more than high school but not college\": mths,\n",
    "        \"college\": c\n",
    "    }\n",
    "    return d\n",
    "proportion_of_education()"
   ],
   "metadata": {
    "collapsed": false,
    "pycharm": {
     "name": "#%%\n"
    }
   }
  },
  {
   "cell_type": "code",
   "execution_count": null,
   "outputs": [],
   "source": [
    "\"\"\"\n",
    "Question 2\n",
    "Let's explore the relationship between being fed breastmilk as a child and getting a seasonal influenza vaccine from a healthcare provider. Return a tuple of the average number of influenza vaccines for those children we know received breastmilk as a child and those who know did not.\n",
    "\n",
    "This function should return a tuple in the form (use the correct numbers:\n",
    "\n",
    "(2.5, 0.1)\n",
    "\"\"\"\n"
   ],
   "metadata": {
    "collapsed": false,
    "pycharm": {
     "name": "#%%\n",
     "is_executing": true
    }
   }
  },
  {
   "cell_type": "code",
   "execution_count": 66,
   "outputs": [
    {
     "data": {
      "text/plain": "(1.8799187420058687, 1.5963945918878317)"
     },
     "execution_count": 66,
     "metadata": {},
     "output_type": "execute_result"
    }
   ],
   "source": [
    "#P_NUMFLU\n",
    "#CBF_01 - Yes - No\n",
    "def average_influenza_doses():\n",
    "    # YOUR CODE HERE\n",
    "    df = pd.read_csv(\"assets/NISPUF17.csv\", index_col = 0)\n",
    "    df = df[['CBF_01', 'P_NUMFLU']].dropna()\n",
    "    #print(df['CBF_01'])\n",
    "\n",
    "    bf_df = df[df['CBF_01'] == 1]\n",
    "    n1 = len(bf_df)\n",
    "    avg_bf = np.sum(bf_df['P_NUMFLU']) / n1\n",
    "    #print(avg_bf)\n",
    "\n",
    "    nbf_df = df[df['CBF_01'] == 2]\n",
    "    n2 = len(nbf_df)\n",
    "    avg_nbf = np.sum(nbf_df['P_NUMFLU']) / n2\n",
    "    #print(avg_nbf)\n",
    "    t = (avg_bf, avg_nbf)\n",
    "    return t\n",
    "    #raise NotImplementedError()\n",
    "average_influenza_doses()\n",
    "\n",
    "\n"
   ],
   "metadata": {
    "collapsed": false,
    "pycharm": {
     "name": "#%%\n"
    }
   }
  },
  {
   "cell_type": "code",
   "execution_count": null,
   "outputs": [],
   "source": [
    "\"\"\"\n",
    "Question 3\n",
    "It would be interesting to see if there is any evidence of a link between vaccine effectiveness and sex of the child. Calculate the ratio of the number of children who contracted chickenpox but were vaccinated against it (at least one varicella dose) versus those who were vaccinated but did not contract chicken pox. Return results by sex.\n",
    "\n",
    "This function should return a dictionary in the form of (use the correct numbers):\n",
    "\n",
    "    {\"male\":0.2,\n",
    "    \"female\":0.4}\n",
    "Note: To aid in verification, the chickenpox_by_sex()['female'] value the autograder is looking for starts with the digits 0.0077.\n",
    "\"\"\"\n"
   ],
   "metadata": {
    "collapsed": false,
    "pycharm": {
     "name": "#%%\n"
    }
   }
  },
  {
   "cell_type": "code",
   "execution_count": 10,
   "outputs": [
    {
     "data": {
      "text/plain": "{'male': 0.009675583380762664, 'female': 0.0077918259335489565}"
     },
     "execution_count": 10,
     "metadata": {},
     "output_type": "execute_result"
    }
   ],
   "source": [
    "#HAD_CPOX\n",
    "#P_NUMVRC\n",
    "#SEX\n",
    "\n",
    "def chickenpox_by_sex():\n",
    "    # YOUR CODE HERE\n",
    "    df = pd.read_csv(\"assets/NISPUF17.csv\", index_col = 0)\n",
    "    vax_df = df[df['P_NUMVRC'] >= 1.0]\n",
    "\n",
    "    df_pos = vax_df[vax_df['HAD_CPOX'] == 1]\n",
    "    df_neg = vax_df[vax_df['HAD_CPOX'] == 2]\n",
    "    df_pos_male = df_pos[df_pos['SEX'] == 1]\n",
    "    df_neg_male = df_neg[df_neg['SEX'] == 1]\n",
    "\n",
    "    male_ratio = len(df_pos_male)/len(df_neg_male)\n",
    "\n",
    "    df_pos_female = df_pos[df_pos['SEX'] == 2]\n",
    "    df_neg_female = df_neg[df_neg['SEX'] == 2]\n",
    "\n",
    "    female_ratio = len(df_pos_female)/len(df_neg_female)\n",
    "\n",
    "    d = {\n",
    "        \"male\": male_ratio,\n",
    "        \"female\": female_ratio\n",
    "    }\n",
    "    return d\n",
    "\n",
    "    #raise NotImplementedError()\n",
    "chickenpox_by_sex()"
   ],
   "metadata": {
    "collapsed": false,
    "pycharm": {
     "name": "#%%\n"
    }
   }
  },
  {
   "cell_type": "code",
   "execution_count": null,
   "outputs": [],
   "source": [
    "\n",
    "\"\"\"\n",
    "Question 4\n",
    "A correlation is a statistical relationship between two variables. If we wanted to know if vaccines work, we might look at the correlation between the use of the vaccine and whether it results in prevention of the infection or disease [1]. In this question, you are to see if there is a correlation between having had the chicken pox and the number of chickenpox vaccine doses given (varicella).\n",
    "\n",
    "Some notes on interpreting the answer. The had_chickenpox_column is either 1 (for yes) or 2 (for no), and the num_chickenpox_vaccine_column is the number of doses a child has been given of the varicella vaccine. A positive correlation (e.g., corr > 0) means that an increase in had_chickenpox_column (which means more no’s) would also increase the values of num_chickenpox_vaccine_column (which means more doses of vaccine). If there is a negative correlation (e.g., corr < 0), it indicates that having had chickenpox is related to an increase in the number of vaccine doses.\n",
    "\n",
    "Also, pval is the probability that we observe a correlation between had_chickenpox_column and num_chickenpox_vaccine_column which is greater than or equal to a particular value occurred by chance. A small pval means that the observed correlation is highly unlikely to occur by chance. In this case, pval should be very small (will end in e-18 indicating a very small number).\n",
    "\n",
    "[1] This isn’t really the full picture, since we are not looking at when the dose was given. It’s possible that children had chickenpox and then their parents went to get them the vaccine. Does this dataset have the data we would need to investigate the timing of the dose?\n",
    "\"\"\"\n"
   ],
   "metadata": {
    "collapsed": false,
    "pycharm": {
     "name": "#%%\n"
    }
   }
  },
  {
   "cell_type": "code",
   "execution_count": 32,
   "outputs": [
    {
     "data": {
      "text/plain": "0.07044873460148006"
     },
     "execution_count": 32,
     "metadata": {},
     "output_type": "execute_result"
    }
   ],
   "source": [
    "def corr_chickenpox():\n",
    "    import scipy.stats as stats\n",
    "    #import numpy as np\n",
    "    #import pandas as pd\n",
    "    cols = [\n",
    "        'SEQNUMC', 'SEQNUMHH', 'PDAT', 'PROVWT_D', 'RDDWT_D', 'STRATUM', 'YEAR', 'AGECPOXR', 'AGEGRP', 'BF_ENDR06', 'BF_EXCLR06', 'BF_FORMR08', 'BFENDFL06', 'BFFORMFL06', 'C1R', 'C5R', 'CBF_01', 'CEN_REG', 'CHILDNM', 'CWIC_01', 'CWIC_02', 'EDUC1', 'FRSTBRN', 'I_HISP_K', 'INCPORAR', 'INCPORAR_I', 'INCPOV1', 'INCQ298A', 'LANGUAGE', 'M_AGEGRP2', 'MARITAL2', 'MOBIL_I', 'NUM_PHONE', 'NUM_CELLS_HH', 'NUM_CELLS_PARENTS', 'RACE_K', 'RACEETHK', 'RENT_OWN', 'SEX', 'ESTIAP17', 'EST_GRANT', 'STATE', 'D6R', 'D7', 'N_PRVR', 'PROV_FAC', 'REGISTRY', 'VFC_ORDER', 'HEP_BRTH', 'HEP_FLAG', 'P_NUHEPX', 'P_NUHIBX', 'P_NUHPHB', 'P_NUMDAH', 'P_NUMDHI', 'P_NUMDIH', 'P_NUMDTA', 'P_NUMDTP', 'P_NUMFLU', 'P_NUMFLUL', 'P_NUMFLUM', 'P_NUMFLUN', 'P_NUMHEA', 'P_NUMHEN', 'P_NUMHEP', 'P_NUMHG', 'P_NUMHHY', 'P_NUMHIB', 'P_NUMHIN', 'P_NUMHION', 'P_NUMHM', 'P_NUMHS', 'P_NUMIPV', 'P_NUMMCN', 'P_NUMMMR', 'P_NUMMMRX', 'P_NUMMMX', 'P_NUMMP', 'P_NUMMPR', 'P_NUMMRV', 'P_NUMMS', 'P_NUMMSM', 'P_NUMMSR', 'P_NUMOLN', 'P_NUMOPV', 'P_NUMPCV', 'P_NUMPCP', 'P_NUMPCC', 'P_NUMPCC7', 'P_NUMPCC13', 'P_NUMPCCN', 'P_NUMPCN', 'P_NUMPOL', 'P_NUMRB', 'P_NUMRG', 'P_NUMRM', 'P_NUMRO', 'P_NUMROT', 'P_NUMTPN', 'P_NUMVRN', 'P_NUMVRX', 'P_U12VRC', 'P_UTD331', 'P_UTD431', 'P_UTDHEP', 'P_UTDHEPA1', 'P_UTDHEPA2', 'P_UTDHIB', 'P_UTDHIB_ROUT_S', 'P_UTDHIB_SHORT_S', 'P_UTDMCV', 'P_UTDMMX', 'P_UTDPC3', 'P_UTDPCV', 'P_UTDPCVB13', 'P_UTDPOL', 'P_UTDROT_S', 'P_UTDTP3', 'P_UTDTP4', 'PU431331', 'P_UTD431H31_ROUT_S', 'PU431_31', 'PU4313313', 'P_UTD431H313_ROUT_S', 'PU4313314', 'P_UTD431H314_ROUT_S', 'PU431_314', 'PUT43133', 'P_UTD431H3_ROUT_S', 'PUTD4313', 'P_UTD431H_ROUT_S', 'U1D_HEP', 'U2D_HEP', 'U3D_HEP', 'DDTP1', 'DDTP2', 'DDTP3', 'DDTP4', 'DDTP5', 'DDTP6', 'DDTP7', 'DDTP8', 'DDTP9', 'DFLU1', 'DFLU2', 'DFLU3', 'DFLU4', 'DFLU5', 'DFLU6', 'DFLU7', 'DFLU8', 'DFLU9', 'DHEPA1', 'DHEPA2', 'DHEPA3', 'DHEPA4', 'DHEPA5', 'DHEPA6', 'DHEPA7', 'DHEPA8', 'DHEPA9', 'DHEPB1', 'DHEPB2', 'DHEPB3', 'DHEPB4', 'DHEPB5', 'DHEPB6', 'DHEPB7', 'DHEPB8', 'DHEPB9', 'DHIB1', 'DHIB2', 'DHIB3', 'DHIB4', 'DHIB5', 'DHIB6', 'DHIB7', 'DHIB8', 'DHIB9', 'DMMR1', 'DMMR2', 'DMMR3', 'DMMR4', 'DMMR5', 'DMMR6', 'DMMR7', 'DMMR8', 'DMMR9', 'DMP1', 'DMP2', 'DMP3', 'DMP4', 'DMP5', 'DMP6', 'DMP7', 'DMP8', 'DMP9', 'DMPRB1', 'DMPRB2', 'DMPRB3', 'DMPRB4', 'DMPRB5', 'DMPRB6', 'DMPRB7', 'DMPRB8', 'DMPRB9', 'DPCV1', 'DPCV2', 'DPCV3', 'DPCV4', 'DPCV5', 'DPCV6', 'DPCV7', 'DPCV8', 'DPCV9', 'DPOLIO1', 'DPOLIO2', 'DPOLIO3', 'DPOLIO4', 'DPOLIO5', 'DPOLIO6', 'DPOLIO7', 'DPOLIO8', 'DPOLIO9', 'DRB1', 'DRB2', 'DRB3', 'DRB4', 'DRB5', 'DRB6', 'DRB7', 'DRB8', 'DRB9', 'DROT1', 'DROT2', 'DROT3', 'DROT4', 'DROT5', 'DROT6', 'DROT7', 'DROT8', 'DROT9', 'DVRC1', 'DVRC2', 'DVRC3', 'DVRC4', 'DVRC5', 'DVRC6', 'DVRC7', 'DVRC8', 'DVRC9', 'DTP1_AGE', 'DTP2_AGE', 'DTP3_AGE', 'DTP4_AGE', 'DTP5_AGE', 'DTP6_AGE', 'DTP7_AGE', 'DTP8_AGE', 'DTP9_AGE', 'FLU1_AGE', 'FLU2_AGE', 'FLU3_AGE', 'FLU4_AGE', 'FLU5_AGE', 'FLU6_AGE', 'FLU7_AGE', 'FLU8_AGE', 'FLU9_AGE', 'HEA1_AGE', 'HEA2_AGE', 'HEA3_AGE', 'HEA4_AGE', 'HEA5_AGE', 'HEA6_AGE', 'HEA7_AGE', 'HEA8_AGE', 'HEA9_AGE', 'HEP1_AGE', 'HEP2_AGE', 'HEP3_AGE', 'HEP4_AGE', 'HEP5_AGE', 'HEP6_AGE', 'HEP7_AGE', 'HEP8_AGE', 'HEP9_AGE', 'HIB1_AGE', 'HIB2_AGE', 'HIB3_AGE', 'HIB4_AGE', 'HIB5_AGE', 'HIB6_AGE', 'HIB7_AGE', 'HIB8_AGE', 'HIB9_AGE', 'MMR1_AGE', 'MMR2_AGE', 'MMR3_AGE', 'MMR4_AGE', 'MMR5_AGE', 'MMR6_AGE', 'MMR7_AGE', 'MMR8_AGE', 'MMR9_AGE', 'MP1_AGE', 'MP2_AGE', 'MP3_AGE', 'MP4_AGE', 'MP5_AGE', 'MP6_AGE', 'MP7_AGE', 'MP8_AGE', 'MP9_AGE', 'MPR1_AGE', 'MPR2_AGE', 'MPR3_AGE', 'MPR4_AGE', 'MPR5_AGE', 'MPR6_AGE', 'MPR7_AGE', 'MPR8_AGE', 'MPR9_AGE', 'PCV1_AGE', 'PCV2_AGE', 'PCV3_AGE', 'PCV4_AGE', 'PCV5_AGE', 'PCV6_AGE', 'PCV7_AGE', 'PCV8_AGE', 'PCV9_AGE', 'POL1_AGE', 'POL2_AGE', 'POL3_AGE', 'POL4_AGE', 'POL5_AGE', 'POL6_AGE', 'POL7_AGE', 'POL8_AGE', 'POL9_AGE', 'RB1_AGE', 'RB2_AGE', 'RB3_AGE', 'RB4_AGE', 'RB5_AGE', 'RB6_AGE', 'RB7_AGE', 'RB8_AGE', 'RB9_AGE', 'ROT1_AGE', 'ROT2_AGE', 'ROT3_AGE', 'ROT4_AGE', 'ROT5_AGE', 'ROT6_AGE', 'ROT7_AGE', 'ROT8_AGE', 'ROT9_AGE', 'VRC1_AGE', 'VRC2_AGE', 'VRC3_AGE', 'VRC4_AGE', 'VRC5_AGE', 'VRC6_AGE', 'VRC7_AGE', 'VRC8_AGE', 'VRC9_AGE', 'XDTPTY1', 'XDTPTY2', 'XDTPTY3', 'XDTPTY4', 'XDTPTY5', 'XDTPTY6', 'XDTPTY7', 'XDTPTY8', 'XDTPTY9', 'XFLUTY1', 'XFLUTY2', 'XFLUTY3', 'XFLUTY4', 'XFLUTY5', 'XFLUTY6', 'XFLUTY7', 'XFLUTY8', 'XFLUTY9', 'XHEPTY1', 'XHEPTY2', 'XHEPTY3', 'XHEPTY4', 'XHEPTY5', 'XHEPTY6', 'XHEPTY7', 'XHEPTY8', 'XHEPTY9', 'XHIBTY1', 'XHIBTY2', 'XHIBTY3', 'XHIBTY4', 'XHIBTY5', 'XHIBTY6', 'XHIBTY7', 'XHIBTY8', 'XHIBTY9', 'XMMRTY1', 'XMMRTY2', 'XMMRTY3', 'XMMRTY4', 'XMMRTY5', 'XMMRTY6', 'XMMRTY7', 'XMMRTY8', 'XMMRTY9', 'XPCVTY1', 'XPCVTY2', 'XPCVTY3', 'XPCVTY4', 'XPCVTY5', 'XPCVTY6', 'XPCVTY7', 'XPCVTY8', 'XPCVTY9', 'XPOLTY1', 'XPOLTY2', 'XPOLTY3', 'XPOLTY4', 'XPOLTY5', 'XPOLTY6', 'XPOLTY7', 'XPOLTY8', 'XPOLTY9', 'XROTTY1', 'XROTTY2', 'XROTTY3', 'XROTTY4', 'XROTTY5', 'XROTTY6', 'XROTTY7', 'XROTTY8', 'XROTTY9', 'XVRCTY1', 'XVRCTY2', 'XVRCTY3', 'XVRCTY4', 'XVRCTY5', 'XVRCTY6', 'XVRCTY7', 'XVRCTY8', 'XVRCTY9', 'INS_STAT2_I', 'INS_BREAK_I'\n",
    "    ]\n",
    "\n",
    "    # this is just an example dataframe\n",
    "    df = pd.read_csv(\"assets/NISPUF17.csv\", index_col = 0)\n",
    "    df = df.drop(labels=cols, axis=1).dropna()\n",
    "\n",
    "    #print(df)\n",
    "    new_df = df[df[\"HAD_CPOX\"].isin([1,2])]\n",
    "    #print(new_df)\n",
    "    corr, pval=stats.pearsonr(new_df[\"HAD_CPOX\"],new_df[\"P_NUMVRC\"])\n",
    "\n",
    "    return corr\n",
    "\n",
    "\n",
    "    #raise NotImplementedError()\n",
    "\n",
    "corr_chickenpox()"
   ],
   "metadata": {
    "collapsed": false,
    "pycharm": {
     "name": "#%%\n"
    }
   }
  },
  {
   "cell_type": "code",
   "execution_count": null,
   "outputs": [],
   "source": [],
   "metadata": {
    "collapsed": false,
    "pycharm": {
     "name": "#%%\n"
    }
   }
  }
 ],
 "metadata": {
  "kernelspec": {
   "display_name": "Python 3",
   "language": "python",
   "name": "python3"
  },
  "language_info": {
   "codemirror_mode": {
    "name": "ipython",
    "version": 2
   },
   "file_extension": ".py",
   "mimetype": "text/x-python",
   "name": "python",
   "nbconvert_exporter": "python",
   "pygments_lexer": "ipython2",
   "version": "2.7.6"
  }
 },
 "nbformat": 4,
 "nbformat_minor": 0
}