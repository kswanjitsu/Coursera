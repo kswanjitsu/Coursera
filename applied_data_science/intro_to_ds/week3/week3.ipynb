{
 "cells": [
  {
   "cell_type": "code",
   "execution_count": 2,
   "outputs": [],
   "source": [
    "import pandas as pd\n",
    "import numpy as np"
   ],
   "metadata": {
    "collapsed": false,
    "pycharm": {
     "name": "#%%\n"
    }
   }
  },
  {
   "cell_type": "code",
   "execution_count": null,
   "outputs": [],
   "source": [
    "\"\"\" Load the energy data from the file assets/Energy Indicators.xls, which is a list of indicators of energy supply and renewable electricity production from the United Nations for the year 2013, and should be put into a DataFrame with the variable name of Energy.\n",
    "\n",
    "Keep in mind that this is an Excel file, and not a comma separated values file. Also, make sure to exclude the footer and header information from the datafile. The first two columns are unneccessary, so you should get rid of them, and you should change the column labels so that the columns are:\n",
    "\n",
    "['Country', 'Energy Supply', 'Energy Supply per Capita', '% Renewable]\n",
    "\n",
    "Convert Energy Supply to gigajoules (Note: there are 1,000,000 gigajoules in a petajoule). For all countries which have missing data (e.g. data with \"...\") make sure this is reflected as np.NaN values.\n",
    "\n",
    "Rename the following list of countries (for use in later questions):\n",
    "\n",
    "\"Republic of Korea\": \"South Korea\",\n",
    "\"United States of America\": \"United States\",\n",
    "\"United Kingdom of Great Britain and Northern Ireland\": \"United Kingdom\",\n",
    "\"China, Hong Kong Special Administrative Region\": \"Hong Kong\"\n",
    "\n",
    "There are also several countries with numbers and/or parenthesis in their name. Be sure to remove these, e.g. 'Bolivia (Plurinational State of)' should be 'Bolivia'. 'Switzerland17' should be 'Switzerland'.\n",
    "\n",
    "Next, load the GDP data from the file assets/world_bank.csv, which is a csv containing countries' GDP from 1960 to 2015 from World Bank. Call this DataFrame GDP.\n",
    "\n",
    "Make sure to skip the header, and rename the following list of countries:\n",
    "\n",
    "\"Korea, Rep.\": \"South Korea\",\n",
    "\"Iran, Islamic Rep.\": \"Iran\",\n",
    "\"Hong Kong SAR, China\": \"Hong Kong\"\n",
    "\n",
    "Finally, load the Sciamgo Journal and Country Rank data for Energy Engineering and Power Technology from the file assets/scimagojr-3.xlsx, which ranks countries based on their journal contributions in the aforementioned area. Call this DataFrame ScimEn.\n",
    "\n",
    "Join the three datasets: GDP, Energy, and ScimEn into a new dataset (using the intersection of country names). Use only the last 10 years (2006-2015) of GDP data and only the top 15 countries by Scimagojr 'Rank' (Rank 1 through 15).\n",
    "\n",
    "The index of this DataFrame should be the name of the country, and the columns should be ['Rank', 'Documents', 'Citable documents', 'Citations', 'Self-citations', 'Citations per document', 'H index', 'Energy Supply', 'Energy Supply per Capita', '% Renewable', '2006', '2007', '2008', '2009', '2010', '2011', '2012', '2013', '2014', '2015'].\n",
    "\n",
    "This function should return a DataFrame with 20 columns and 15 entries, and the rows of the DataFrame should be sorted by \"Rank\".\"\"\"\n"
   ],
   "metadata": {
    "collapsed": false,
    "pycharm": {
     "name": "#%%Question 1\n"
    }
   }
  },
  {
   "cell_type": "code",
   "execution_count": 47,
   "outputs": [
    {
     "data": {
      "text/plain": "                       Country  Energy Supply Energy Supply per Capita  \\\n0                  Afghanistan   3.210000e+08                       10   \n1                      Albania   1.020000e+08                       35   \n2                      Algeria   1.959000e+09                       51   \n3               American Samoa            NaN                      ...   \n4                      Andorra   9.000000e+06                      121   \n..                         ...            ...                      ...   \n222                   Viet Nam   2.554000e+09                       28   \n223  Wallis and Futuna Islands   0.000000e+00                       26   \n224                      Yemen   3.440000e+08                       13   \n225                     Zambia   4.000000e+08                       26   \n226                   Zimbabwe   4.800000e+08                       32   \n\n              %  \n0     78.669280  \n1    100.000000  \n2      0.551010  \n3      0.641026  \n4     88.695650  \n..          ...  \n222   45.321520  \n223    0.000000  \n224    0.000000  \n225   99.714670  \n226   52.536120  \n\n[227 rows x 4 columns]",
      "text/html": "<div>\n<style scoped>\n    .dataframe tbody tr th:only-of-type {\n        vertical-align: middle;\n    }\n\n    .dataframe tbody tr th {\n        vertical-align: top;\n    }\n\n    .dataframe thead th {\n        text-align: right;\n    }\n</style>\n<table border=\"1\" class=\"dataframe\">\n  <thead>\n    <tr style=\"text-align: right;\">\n      <th></th>\n      <th>Country</th>\n      <th>Energy Supply</th>\n      <th>Energy Supply per Capita</th>\n      <th>%</th>\n    </tr>\n  </thead>\n  <tbody>\n    <tr>\n      <th>0</th>\n      <td>Afghanistan</td>\n      <td>3.210000e+08</td>\n      <td>10</td>\n      <td>78.669280</td>\n    </tr>\n    <tr>\n      <th>1</th>\n      <td>Albania</td>\n      <td>1.020000e+08</td>\n      <td>35</td>\n      <td>100.000000</td>\n    </tr>\n    <tr>\n      <th>2</th>\n      <td>Algeria</td>\n      <td>1.959000e+09</td>\n      <td>51</td>\n      <td>0.551010</td>\n    </tr>\n    <tr>\n      <th>3</th>\n      <td>American Samoa</td>\n      <td>NaN</td>\n      <td>...</td>\n      <td>0.641026</td>\n    </tr>\n    <tr>\n      <th>4</th>\n      <td>Andorra</td>\n      <td>9.000000e+06</td>\n      <td>121</td>\n      <td>88.695650</td>\n    </tr>\n    <tr>\n      <th>...</th>\n      <td>...</td>\n      <td>...</td>\n      <td>...</td>\n      <td>...</td>\n    </tr>\n    <tr>\n      <th>222</th>\n      <td>Viet Nam</td>\n      <td>2.554000e+09</td>\n      <td>28</td>\n      <td>45.321520</td>\n    </tr>\n    <tr>\n      <th>223</th>\n      <td>Wallis and Futuna Islands</td>\n      <td>0.000000e+00</td>\n      <td>26</td>\n      <td>0.000000</td>\n    </tr>\n    <tr>\n      <th>224</th>\n      <td>Yemen</td>\n      <td>3.440000e+08</td>\n      <td>13</td>\n      <td>0.000000</td>\n    </tr>\n    <tr>\n      <th>225</th>\n      <td>Zambia</td>\n      <td>4.000000e+08</td>\n      <td>26</td>\n      <td>99.714670</td>\n    </tr>\n    <tr>\n      <th>226</th>\n      <td>Zimbabwe</td>\n      <td>4.800000e+08</td>\n      <td>32</td>\n      <td>52.536120</td>\n    </tr>\n  </tbody>\n</table>\n<p>227 rows × 4 columns</p>\n</div>"
     },
     "execution_count": 47,
     "metadata": {},
     "output_type": "execute_result"
    }
   ],
   "source": [
    "Energy = pd.read_excel('./assets/Energy Indicators.xls', skiprows=17, skipfooter=38)\n",
    "Energy.drop(['Unnamed: 0','Unnamed: 1'], inplace=True, axis=1)\n",
    "Energy.rename(columns={\n",
    "    \"Unnamed: 2\":\"Country\",\n",
    "    \"Petajoules\":\"Energy Supply\",\n",
    "    \"Gigajoules\":\"Energy Supply per Capita\",\n",
    "    \"Unnamed: 5\":\"% Renewable\"\n",
    "},\n",
    "inplace = True)\n",
    "Energy['Energy Supply'] = Energy['Energy Supply'].replace('...',np.nan)\n",
    "Energy['Energy Supply'] = Energy['Energy Supply'] * 1000000\n",
    "Energy[\"Country\"] = Energy[\"Country\"].replace('\\d*', '',regex=True)\n",
    "Energy[\"Country\"] = Energy[\"Country\"].replace(r'\\([^)]*\\)', '',regex=True)\n",
    "name_d = {\n",
    "    \"Republic of Korea\": \"South Korea\",\n",
    "    \"United States of America\": \"United States\",\n",
    "    \"United Kingdom of Great Britain and Northern Ireland\": \"United Kingdom\",\n",
    "    \"China, Hong Kong Special Administrative Region\": \"Hong Kong\"\n",
    "}\n",
    "\n",
    "for i in name_d.keys():\n",
    "    name_d[i]\n",
    "    Energy[\"Country\"] = Energy[\"Country\"].replace('{}'.format(i), '{}'.format(name_d[i]), regex=True)\n",
    "\n",
    "Energy"
   ],
   "metadata": {
    "collapsed": false,
    "pycharm": {
     "name": "#%%Energy = pd.read_excel(\n"
    }
   }
  },
  {
   "cell_type": "code",
   "execution_count": null,
   "outputs": [],
   "source": [],
   "metadata": {
    "collapsed": false,
    "pycharm": {
     "name": "#%%\n"
    }
   }
  }
 ],
 "metadata": {
  "kernelspec": {
   "display_name": "Python 3",
   "language": "python",
   "name": "python3"
  },
  "language_info": {
   "codemirror_mode": {
    "name": "ipython",
    "version": 2
   },
   "file_extension": ".py",
   "mimetype": "text/x-python",
   "name": "python",
   "nbconvert_exporter": "python",
   "pygments_lexer": "ipython2",
   "version": "2.7.6"
  }
 },
 "nbformat": 4,
 "nbformat_minor": 0
}