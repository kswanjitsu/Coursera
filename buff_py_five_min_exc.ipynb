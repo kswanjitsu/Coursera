{
 "cells": [
  {
   "cell_type": "code",
   "execution_count": 5,
   "outputs": [],
   "source": [
    "\"\"\"\n",
    "Example question:\n",
    "Can you use what we have learned so far to create a for loop that iterates through the following string, DNA, and converts it to RNA by turning all the T's to U's? Take 5 minutes to attempt to do this. Potential answers are listed at the end.\n",
    "\n",
    "FYI:\n",
    "their proposed solution only \"prints\" the result to screen and doesn't store the data anywhere, not a file, or even a variable\n",
    "if you were doing something with DNA sequence i.e. \"translating\" it to RNA - then you'd probs wanna use it later\n",
    "\n",
    "The solution I gave print and stores to a variable, if you guys have questions on how to write the stored results to file, lmk.\n",
    "\"\"\"\n",
    "\n",
    "DNA = \"AGTTGAGAGTGACACGCACCAACTCCAGCTCCTCGCCGGGAAGACTTCATCCCAGCAACTCGGAATGCTTGGCCCGGGCGGCACTCGGCCTCTCCGCAGCAGTTCTCGAACTGGCCTCCTTGAACGTCCGCTTCGCCTTCGCTTCTGCAACCTGGATCTGGGGGACTGCGGGCCAGGCGCGGCGTGACCCCTGGTGAACGGTGGCCGCCTTTTCCCACCCCTGCCCTCCCATCCTCCCTTCCCGTTTCACCCCGCCCCCTCTCTCCTCCCCAAGCCTGACAGCCCGCGAGCTGCCAAGCAGGGCGCAGCCATGGGAAGAGGAGGAGGGCTAGGGAGCGGCGGCGGCGGCGGCAGCGGCAGCAGCAGCTGCTACAGTGGCGGTGGCGGCGGCGGCTGCTGCTGAGCCCGGGCGGCGGCGGGGACCCCGGGCTGGGGCCACGCGGGCCGGAGGCCCCGGCACCATTGGCCCCAGCGCAGACGCGAACCCGCGCTCTCTGATCAGAGGCGAAGCTCGGAG\""
   ],
   "metadata": {
    "collapsed": false,
    "pycharm": {
     "name": "#%%\n"
    }
   }
  },
  {
   "cell_type": "code",
   "execution_count": 23,
   "outputs": [
    {
     "name": "stdout",
     "output_type": "stream",
     "text": [
      "['A', 'G', 'U', 'U', 'G', 'A', 'G', 'A', 'G', 'U', 'G', 'A', 'C', 'A', 'C', 'G', 'C', 'A', 'C', 'C', 'A', 'A', 'C', 'U', 'C', 'C', 'A', 'G', 'C', 'U', 'C', 'C', 'U', 'C', 'G', 'C', 'C', 'G', 'G', 'G', 'A', 'A', 'G', 'A', 'C', 'U', 'U', 'C', 'A', 'U', 'C', 'C', 'C', 'A', 'G', 'C', 'A', 'A', 'C', 'U', 'C', 'G', 'G', 'A', 'A', 'U', 'G', 'C', 'U', 'U', 'G', 'G', 'C', 'C', 'C', 'G', 'G', 'G', 'C', 'G', 'G', 'C', 'A', 'C', 'U', 'C', 'G', 'G', 'C', 'C', 'U', 'C', 'U', 'C', 'C', 'G', 'C', 'A', 'G', 'C', 'A', 'G', 'U', 'U', 'C', 'U', 'C', 'G', 'A', 'A', 'C', 'U', 'G', 'G', 'C', 'C', 'U', 'C', 'C', 'U', 'U', 'G', 'A', 'A', 'C', 'G', 'U', 'C', 'C', 'G', 'C', 'U', 'U', 'C', 'G', 'C', 'C', 'U', 'U', 'C', 'G', 'C', 'U', 'U', 'C', 'U', 'G', 'C', 'A', 'A', 'C', 'C', 'U', 'G', 'G', 'A', 'U', 'C', 'U', 'G', 'G', 'G', 'G', 'G', 'A', 'C', 'U', 'G', 'C', 'G', 'G', 'G', 'C', 'C', 'A', 'G', 'G', 'C', 'G', 'C', 'G', 'G', 'C', 'G', 'U', 'G', 'A', 'C', 'C', 'C', 'C', 'U', 'G', 'G', 'U', 'G', 'A', 'A', 'C', 'G', 'G', 'U', 'G', 'G', 'C', 'C', 'G', 'C', 'C', 'U', 'U', 'U', 'U', 'C', 'C', 'C', 'A', 'C', 'C', 'C', 'C', 'U', 'G', 'C', 'C', 'C', 'U', 'C', 'C', 'C', 'A', 'U', 'C', 'C', 'U', 'C', 'C', 'C', 'U', 'U', 'C', 'C', 'C', 'G', 'U', 'U', 'U', 'C', 'A', 'C', 'C', 'C', 'C', 'G', 'C', 'C', 'C', 'C', 'C', 'U', 'C', 'U', 'C', 'U', 'C', 'C', 'U', 'C', 'C', 'C', 'C', 'A', 'A', 'G', 'C', 'C', 'U', 'G', 'A', 'C', 'A', 'G', 'C', 'C', 'C', 'G', 'C', 'G', 'A', 'G', 'C', 'U', 'G', 'C', 'C', 'A', 'A', 'G', 'C', 'A', 'G', 'G', 'G', 'C', 'G', 'C', 'A', 'G', 'C', 'C', 'A', 'U', 'G', 'G', 'G', 'A', 'A', 'G', 'A', 'G', 'G', 'A', 'G', 'G', 'A', 'G', 'G', 'G', 'C', 'U', 'A', 'G', 'G', 'G', 'A', 'G', 'C', 'G', 'G', 'C', 'G', 'G', 'C', 'G', 'G', 'C', 'G', 'G', 'C', 'G', 'G', 'C', 'A', 'G', 'C', 'G', 'G', 'C', 'A', 'G', 'C', 'A', 'G', 'C', 'A', 'G', 'C', 'U', 'G', 'C', 'U', 'A', 'C', 'A', 'G', 'U', 'G', 'G', 'C', 'G', 'G', 'U', 'G', 'G', 'C', 'G', 'G', 'C', 'G', 'G', 'C', 'G', 'G', 'C', 'U', 'G', 'C', 'U', 'G', 'C', 'U', 'G', 'A', 'G', 'C', 'C', 'C', 'G', 'G', 'G', 'C', 'G', 'G', 'C', 'G', 'G', 'C', 'G', 'G', 'G', 'G', 'A', 'C', 'C', 'C', 'C', 'G', 'G', 'G', 'C', 'U', 'G', 'G', 'G', 'G', 'C', 'C', 'A', 'C', 'G', 'C', 'G', 'G', 'G', 'C', 'C', 'G', 'G', 'A', 'G', 'G', 'C', 'C', 'C', 'C', 'G', 'G', 'C', 'A', 'C', 'C', 'A', 'U', 'U', 'G', 'G', 'C', 'C', 'C', 'C', 'A', 'G', 'C', 'G', 'C', 'A', 'G', 'A', 'C', 'G', 'C', 'G', 'A', 'A', 'C', 'C', 'C', 'G', 'C', 'G', 'C', 'U', 'C', 'U', 'C', 'U', 'G', 'A', 'U', 'C', 'A', 'G', 'A', 'G', 'G', 'C', 'G', 'A', 'A', 'G', 'C', 'U', 'C', 'G', 'G', 'A', 'G']\n"
     ]
    }
   ],
   "source": [
    "# You can do this like a million ways, some are built-in methods, which are quick and 'pythonic', some are better for learning CS principles\n",
    "# A quick few concepts to know:\n",
    "# When we talk about a \"data type\" it is just a way to represent any data, a word, a number, a bunch of words or numbers etc\n",
    "# Python has essential or basic data types as discussed, integer i.e. 5, float (a decimal value) 5.6, and a string just text\n",
    "# Important! Python treats string (just text usually) as lists (a data type - collection variable) of letters/digits/symbols (characters)\n",
    "# Lists can contain any essential/basic data type i.e. [5, 5.6, 'this, 'assignment, 'is poorly done for beginners')\n",
    "\n",
    "# Next remember that operators can be mathematical logic (+, -, /, *, +=, etc. - returns the math result - cause... math lol)\n",
    "#      5+5 returns 10\n",
    "# or boolen (==, !=, is, is not, etc returns true or false)\n",
    "#      5 == 5, returns True, 5 == 6 returns False, 5 = 5 is trickier to explain and it literally means is this the same object / assigning\n",
    "#      an object / value etc. to a variable.\n",
    "\n",
    "# now let's solve the problem in many ways\n",
    "\n",
    "DNA = \"AGTTGAGAGTGACACGCACCAACTCCAGCTCCTCGCCGGGAAGACTTCATCCCAGCAACTCGGAATGCTTGGCCCGGGCGGCACTCGGCCTCTCCGCAGCAGTTCTCGAACTGGCCTCCTTGAACGTCCGCTTCGCCTTCGCTTCTGCAACCTGGATCTGGGGGACTGCGGGCCAGGCGCGGCGTGACCCCTGGTGAACGGTGGCCGCCTTTTCCCACCCCTGCCCTCCCATCCTCCCTTCCCGTTTCACCCCGCCCCCTCTCTCCTCCCCAAGCCTGACAGCCCGCGAGCTGCCAAGCAGGGCGCAGCCATGGGAAGAGGAGGAGGGCTAGGGAGCGGCGGCGGCGGCGGCAGCGGCAGCAGCAGCTGCTACAGTGGCGGTGGCGGCGGCGGCTGCTGCTGAGCCCGGGCGGCGGCGGGGACCCCGGGCTGGGGCCACGCGGGCCGGAGGCCCCGGCACCATTGGCCCCAGCGCAGACGCGAACCCGCGCTCTCTGATCAGAGGCGAAGCTCGGAG\"\n",
    "new_DNA_list = [] # 'initialize' a new list variable (left side of = sign) and assign it no value (empty quotes)\n",
    "for letter in DNA: # 'iterate' over the old string letter by letter (note can use any iterator variable - letter is for clarity)\n",
    "    if letter == 'A': #use conditional logic that if the iterator variable you are on in the loop is uppercase A do next line of code\n",
    "        new_DNA_list.append('A') #append is a built-in (meaning inherent to python not user defined) that appends to a list or string\n",
    "    elif letter == 'G': #if iterator var is not A it skips above step and goes to next conditional logic - \"elif\" - else if, do this:\n",
    "        new_DNA_list.append('G') # same as above appending G to our new DNA string\n",
    "    elif letter == 'C':\n",
    "        new_DNA_list.append('C')\n",
    "    else: #this is the final conditional you use in logic of if, elif, else (there's also while and try/except, don't worry ab these here)\n",
    "        # Logically because we can see the data in the string the only possibilities are A, T, G, or C in our\n",
    "        # original string. So we can use else here to say, hey we know that the current iterator variable does not hold, A, G, or C,\n",
    "        # therefore it must be T! So we use the else statement for any possibility\n",
    "        # that is not handled in the if and elif statements\n",
    "        new_DNA_list.append('U')\n",
    "\n",
    "print(new_DNA_list) # we print the new string we just made replacing all T's with U's\n",
    "\n",
    "# but we wanted a string not a list, so let's make it a string in the next code block"
   ],
   "metadata": {
    "collapsed": false,
    "pycharm": {
     "name": "#%%for letter in DNA:\n"
    }
   }
  },
  {
   "cell_type": "code",
   "execution_count": 21,
   "outputs": [
    {
     "name": "stdout",
     "output_type": "stream",
     "text": [
      "\n"
     ]
    }
   ],
   "source": [
    "#the join built-in method joins a list together as a string the ignore the preceding '' empty string you see for now\n",
    "final_DNA_string = ''.join(new_DNA_string)\n",
    "print(final_DNA_string)\n",
    "# there is a very difficult algorithm you could write programmatically with python, C or any language - but just be happy join exists"
   ],
   "metadata": {
    "collapsed": false,
    "pycharm": {
     "name": "#%%\n"
    }
   }
  },
  {
   "cell_type": "code",
   "execution_count": null,
   "outputs": [],
   "source": [
    "# We can also do all of that with one line of code with the built in function replace lol\n",
    "\n",
    "new_DNA_string2 = DNA.replace('T', 'U')\n",
    "print(new_DNA_string2)\n",
    "\n",
    "# I'll leave this at this for now and if you want other ways of doing it - let me know"
   ],
   "metadata": {
    "collapsed": false,
    "pycharm": {
     "name": "#%%\n"
    }
   }
  },
  {
   "cell_type": "code",
   "execution_count": 25,
   "outputs": [
    {
     "data": {
      "text/plain": "498.0"
     },
     "execution_count": 25,
     "metadata": {},
     "output_type": "execute_result"
    }
   ],
   "source": [
    "import pandas as pd\n",
    "crypto_prices = pd.Series(data = [400, 500, 1500, 20, 70])\n",
    "\n",
    "crypto_prices.mean()"
   ],
   "metadata": {
    "collapsed": false,
    "pycharm": {
     "name": "#%%crypto_prices = pd.Series(data = [400, 500, 1500, 20, 70])\n"
    }
   }
  },
  {
   "cell_type": "code",
   "execution_count": null,
   "outputs": [],
   "source": [],
   "metadata": {
    "collapsed": false,
    "pycharm": {
     "name": "#%%\n"
    }
   }
  }
 ],
 "metadata": {
  "kernelspec": {
   "display_name": "Python 3",
   "language": "python",
   "name": "python3"
  },
  "language_info": {
   "codemirror_mode": {
    "name": "ipython",
    "version": 2
   },
   "file_extension": ".py",
   "mimetype": "text/x-python",
   "name": "python",
   "nbconvert_exporter": "python",
   "pygments_lexer": "ipython2",
   "version": "2.7.6"
  }
 },
 "nbformat": 4,
 "nbformat_minor": 0
}